{
    "metadata": {
        "kernelspec": {
            "name": "SQL",
            "display_name": "SQL",
            "language": "sql"
        },
        "language_info": {
            "name": "sql",
            "version": ""
        }
    },
    "nbformat_minor": 2,
    "nbformat": 4,
    "cells": [
        {
            "cell_type": "markdown",
            "source": [
                "## **Veritabanı Yedekleme ve Otomasyon Çalışması**\n",
                "\n",
                "## **[https://www.kaggle.com/datasets/khushikyad001/covid-19-global-dataset](https://www.kaggle.com/datasets/khushikyad001/covid-19-global-dataset)**"
            ],
            "metadata": {
                "azdata_cell_guid": "3de64aba-5808-4e5d-89e3-9981c969b6c8"
            },
            "attachments": {}
        },
        {
            "cell_type": "markdown",
            "source": [
                "### **1\\. Yedekleme Süreçlerini Otomatikleştirme**"
            ],
            "metadata": {
                "azdata_cell_guid": "e0280bac-8f00-4d97-8738-bd428c7a43c6"
            },
            "attachments": {}
        },
        {
            "cell_type": "markdown",
            "source": [
                "### **Veritabanı Log Tablosu Oluşturma**"
            ],
            "metadata": {
                "azdata_cell_guid": "13cfd6ca-4ee7-47e0-b355-5418ad3f2fcf"
            },
            "attachments": {}
        },
        {
            "cell_type": "code",
            "source": [
                "USE [covid];\n",
                "GO\n",
                "\n",
                "CREATE TABLE BackupLog (\n",
                "    id INT IDENTITY(1,1) PRIMARY KEY,\n",
                "    database_name NVARCHAR(100),\n",
                "    backup_start DATETIME,\n",
                "    backup_end DATETIME,\n",
                "    backup_size_MB FLOAT,\n",
                "    backup_path NVARCHAR(500),\n",
                "    error_message NVARCHAR(MAX),\n",
                "    log_date DATETIME DEFAULT GETDATE()\n",
                ");"
            ],
            "metadata": {
                "azdata_cell_guid": "ec768ecc-662d-4a15-bda3-a7d42dd6c770",
                "language": "sql"
            },
            "outputs": [
                {
                    "output_type": "display_data",
                    "data": {
                        "text/html": "Commands completed successfully."
                    },
                    "metadata": {}
                },
                {
                    "output_type": "display_data",
                    "data": {
                        "text/html": "Commands completed successfully."
                    },
                    "metadata": {}
                },
                {
                    "output_type": "display_data",
                    "data": {
                        "text/html": "Total execution time: 00:00:00.159"
                    },
                    "metadata": {}
                }
            ],
            "execution_count": 1
        },
        {
            "cell_type": "markdown",
            "source": [
                "### **SQL Server Agent Kontrolü**"
            ],
            "metadata": {
                "azdata_cell_guid": "2a30e97f-646f-40ea-aa94-2801abdafaa6"
            },
            "attachments": {}
        },
        {
            "cell_type": "code",
            "source": [
                "SELECT servicename, status_desc\n",
                "FROM sys.dm_server_services\n",
                "WHERE servicename LIKE '%SQL Server Agent%';"
            ],
            "metadata": {
                "language": "sql",
                "azdata_cell_guid": "c142cc96-dc81-4740-80db-fa17fb4478a7",
                "tags": []
            },
            "outputs": [
                {
                    "output_type": "display_data",
                    "data": {
                        "text/html": "(1 row affected)"
                    },
                    "metadata": {}
                },
                {
                    "output_type": "display_data",
                    "data": {
                        "text/html": "Total execution time: 00:00:00.079"
                    },
                    "metadata": {}
                },
                {
                    "output_type": "execute_result",
                    "execution_count": 2,
                    "data": {
                        "application/vnd.dataresource+json": {
                            "schema": {
                                "fields": [
                                    {
                                        "name": "servicename"
                                    },
                                    {
                                        "name": "status_desc"
                                    }
                                ]
                            },
                            "data": [
                                {
                                    "servicename": "SQL Server Agent (MSSQLSERVER)",
                                    "status_desc": "Running"
                                }
                            ]
                        },
                        "text/html": "<table><tr><th>servicename</th><th>status_desc</th></tr><tr><td>SQL Server Agent (MSSQLSERVER)</td><td>Running</td></tr></table>"
                    },
                    "metadata": {}
                }
            ],
            "execution_count": 2
        },
        {
            "cell_type": "markdown",
            "source": [
                "### **Operatör ve Bildirim Ayarları**"
            ],
            "metadata": {
                "azdata_cell_guid": "f429d175-71f7-404b-bc88-a10cee8ab479"
            },
            "attachments": {}
        },
        {
            "cell_type": "code",
            "source": [
                "USE msdb;\n",
                "GO\n",
                "\n",
                "EXEC dbo.sp_add_operator \n",
                "    @name = N'DBA_Team_2', \n",
                "    @email_address = N'persuren@gmail.com';\n",
                "GO"
            ],
            "metadata": {
                "azdata_cell_guid": "afad6fce-abc3-4f84-82c5-78bf264fa8b0",
                "language": "sql",
                "tags": []
            },
            "outputs": [
                {
                    "output_type": "display_data",
                    "data": {
                        "text/html": "Commands completed successfully."
                    },
                    "metadata": {}
                },
                {
                    "output_type": "display_data",
                    "data": {
                        "text/html": "Commands completed successfully."
                    },
                    "metadata": {}
                },
                {
                    "output_type": "display_data",
                    "data": {
                        "text/html": "Total execution time: 00:00:00.020"
                    },
                    "metadata": {}
                }
            ],
            "execution_count": 9
        },
        {
            "cell_type": "code",
            "source": [
                "USE msdb;\n",
                "GO\n",
                "\n",
                "EXEC dbo.sp_add_job @job_name = N'CovidDB_Backup_Job_New';\n",
                "GO"
            ],
            "metadata": {
                "language": "sql",
                "azdata_cell_guid": "c8018c50-a4b8-432a-b60f-fb509457b948"
            },
            "outputs": [
                {
                    "output_type": "display_data",
                    "data": {
                        "text/html": "Commands completed successfully."
                    },
                    "metadata": {}
                },
                {
                    "output_type": "display_data",
                    "data": {
                        "text/html": "Commands completed successfully."
                    },
                    "metadata": {}
                },
                {
                    "output_type": "display_data",
                    "data": {
                        "text/html": "Total execution time: 00:00:00.052"
                    },
                    "metadata": {}
                }
            ],
            "execution_count": 10
        },
        {
            "cell_type": "code",
            "source": [
                "USE msdb;\n",
                "GO\n",
                "\n",
                "EXEC dbo.sp_update_job \n",
                "    @job_name = N'CovidDB_Backup_Job_New',\n",
                "    @notify_level_email = 2,\n",
                "    @notify_email_operator_name = N'DBA_Team_2';\n",
                "GO"
            ],
            "metadata": {
                "azdata_cell_guid": "18e23e38-5576-43d5-8e43-b03e8279c88c",
                "language": "sql"
            },
            "outputs": [
                {
                    "output_type": "display_data",
                    "data": {
                        "text/html": "Commands completed successfully."
                    },
                    "metadata": {}
                },
                {
                    "output_type": "display_data",
                    "data": {
                        "text/html": "Commands completed successfully."
                    },
                    "metadata": {}
                },
                {
                    "output_type": "display_data",
                    "data": {
                        "text/html": "Total execution time: 00:00:00.029"
                    },
                    "metadata": {}
                }
            ],
            "execution_count": 11
        },
        {
            "cell_type": "markdown",
            "source": [
                "### **Yedekleme İşini ve Adımlarını Oluştur**"
            ],
            "metadata": {
                "azdata_cell_guid": "1e802ff5-2be2-4154-99ee-f6df86116cf6",
                "language": ""
            },
            "attachments": {}
        },
        {
            "cell_type": "code",
            "source": [
                "USE msdb;\n",
                "GO\n",
                "\n",
                "EXEC sp_add_jobstep\n",
                "    @job_name = N'CovidDB_Backup_Job_New',\n",
                "    @step_name = N'Full_Backup',\n",
                "    @subsystem = N'TSQL',\n",
                "    @command = N'\n",
                "        DECLARE @path NVARCHAR(500);\n",
                "        SET @path = N''/var/opt/mssql/backups/covid_'' \n",
                "            + CONVERT(VARCHAR, GETDATE(), 112) + ''_'' \n",
                "            + REPLACE(CONVERT(VARCHAR, GETDATE(), 108), '':'', '''') + ''.bak'';\n",
                "        BACKUP DATABASE [covid] TO DISK = @path WITH COMPRESSION, STATS = 10;\n",
                "    ',\n",
                "    @database_name = N'master';\n",
                "GO\n",
                "\n",
                "\n",
                "EXEC sp_add_jobstep\n",
                "    @job_name = N'CovidDB_Backup_Job_New',\n",
                "    @step_name = N'Cleanup_Old_Backups',\n",
                "    @command = N'\n",
                "        EXEC xp_delete_file 0, N''/var/opt/mssql/backups/'', N''bak'', DATEADD(DAY, -7, GETDATE());\n",
                "    ',\n",
                "    @database_name = N'master';\n",
                "GO\n",
                "\n",
                "\n",
                "EXEC sp_add_jobstep\n",
                "    @job_name = N'CovidDB_Backup_Job_New',\n",
                "    @step_name = N'Log_Backup_Info',\n",
                "    @command = N'\n",
                "        INSERT INTO covid.dbo.BackupLog (database_name, backup_start, backup_end, backup_size_MB, backup_path)\n",
                "        SELECT \n",
                "            database_name, \n",
                "            backup_start_date, \n",
                "            backup_finish_date, \n",
                "            backup_size/1024/1024, \n",
                "            physical_device_name\n",
                "        FROM msdb.dbo.backupset bs\n",
                "        JOIN msdb.dbo.backupmediafamily bmf ON bs.media_set_id = bmf.media_set_id\n",
                "        WHERE bs.database_name = ''covid''\n",
                "          AND bs.type = ''D''\n",
                "          AND backup_start_date >= DATEADD(HOUR, -1, GETDATE());\n",
                "    ',\n",
                "    @database_name = N'master';\n",
                "GO"
            ],
            "metadata": {
                "azdata_cell_guid": "2b7cce2a-e62c-450e-acc4-e828188e5ac2",
                "language": "sql"
            },
            "outputs": [
                {
                    "output_type": "display_data",
                    "data": {
                        "text/html": "Commands completed successfully."
                    },
                    "metadata": {}
                },
                {
                    "output_type": "display_data",
                    "data": {
                        "text/html": "Commands completed successfully."
                    },
                    "metadata": {}
                },
                {
                    "output_type": "display_data",
                    "data": {
                        "text/html": "Commands completed successfully."
                    },
                    "metadata": {}
                },
                {
                    "output_type": "display_data",
                    "data": {
                        "text/html": "Commands completed successfully."
                    },
                    "metadata": {}
                },
                {
                    "output_type": "display_data",
                    "data": {
                        "text/html": "Total execution time: 00:00:00.075"
                    },
                    "metadata": {}
                }
            ],
            "execution_count": 12
        },
        {
            "cell_type": "markdown",
            "source": [
                "### **Zamanlama ve Aktivasyon**"
            ],
            "metadata": {
                "azdata_cell_guid": "4f84e839-4411-4754-9645-23045a6a27bf",
                "language": ""
            },
            "attachments": {}
        },
        {
            "cell_type": "code",
            "source": [
                "\n",
                "EXEC dbo.sp_add_schedule\n",
                "    @schedule_name = N'Daily_1AM',\n",
                "    @freq_type = 4,\n",
                "    @freq_interval = 1,\n",
                "    @active_start_time = 010000;\n",
                "GO\n",
                "\n",
                "\n",
                "EXEC sp_attach_schedule\n",
                "    @job_name = N'CovidDB_Backup_Job_New',\n",
                "    @schedule_name = N'Daily_1AM';\n",
                "GO\n",
                "\n",
                "\n",
                "EXEC dbo.sp_add_jobserver\n",
                "    @job_name = N'CovidDB_Backup_Job_New';\n",
                "GO"
            ],
            "metadata": {
                "azdata_cell_guid": "4da39367-8209-4422-b7e7-2430f3496fbc",
                "language": "sql"
            },
            "outputs": [
                {
                    "output_type": "display_data",
                    "data": {
                        "text/html": "Commands completed successfully."
                    },
                    "metadata": {}
                },
                {
                    "output_type": "display_data",
                    "data": {
                        "text/html": "Commands completed successfully."
                    },
                    "metadata": {}
                },
                {
                    "output_type": "display_data",
                    "data": {
                        "text/html": "Commands completed successfully."
                    },
                    "metadata": {}
                },
                {
                    "output_type": "display_data",
                    "data": {
                        "text/html": "Total execution time: 00:00:00.143"
                    },
                    "metadata": {}
                }
            ],
            "execution_count": 13
        },
        {
            "cell_type": "markdown",
            "source": [
                "### **2\\. T-Sql ile Rapor Oluşturma**"
            ],
            "metadata": {
                "azdata_cell_guid": "6717e161-ba7c-4426-96eb-3ae8265ab065"
            },
            "attachments": {}
        },
        {
            "cell_type": "code",
            "source": [
                "USE covid;\n",
                "GO\n",
                "\n",
                "IF NOT EXISTS (SELECT * FROM sys.tables WHERE name = 'BackupLog')\n",
                "BEGIN\n",
                "    CREATE TABLE BackupLog (\n",
                "        log_id INT IDENTITY(1,1) PRIMARY KEY,\n",
                "        database_name NVARCHAR(255),\n",
                "        error_message NVARCHAR(MAX),\n",
                "        backup_date DATETIME DEFAULT GETDATE()\n",
                "    );\n",
                "END;\n",
                "GO"
            ],
            "metadata": {
                "language": "sql",
                "azdata_cell_guid": "fd82dc63-0404-4772-b123-e9c7456cb434"
            },
            "outputs": [
                {
                    "output_type": "display_data",
                    "data": {
                        "text/html": "Commands completed successfully."
                    },
                    "metadata": {}
                },
                {
                    "output_type": "display_data",
                    "data": {
                        "text/html": "Commands completed successfully."
                    },
                    "metadata": {}
                },
                {
                    "output_type": "display_data",
                    "data": {
                        "text/html": "Total execution time: 00:00:00.039"
                    },
                    "metadata": {}
                }
            ],
            "execution_count": 2
        },
        {
            "cell_type": "markdown",
            "source": [
                "### **Hata Yönetimi için Stored Procedure Güncellemesi**"
            ],
            "metadata": {
                "azdata_cell_guid": "535d82d7-3dd0-45ce-bd94-01ec651e5ae1"
            },
            "attachments": {}
        },
        {
            "cell_type": "code",
            "source": [
                "USE covid;\n",
                "GO\n",
                "\n",
                "CREATE OR ALTER PROCEDURE usp_Backup_CovidDB\n",
                "AS\n",
                "BEGIN\n",
                "    BEGIN TRY\n",
                "        DECLARE @path NVARCHAR(500);\n",
                "        SET @path = N'/var/opt/mssql/backups/covid_' \n",
                "            + CONVERT(VARCHAR, GETDATE(), 112) + '_' \n",
                "            + REPLACE(CONVERT(VARCHAR, GETDATE(), 108), ':', '') + '.bak';\n",
                "        \n",
                "        BACKUP DATABASE [covid] TO DISK = @path WITH COMPRESSION, STATS = 10;\n",
                "    END TRY\n",
                "    BEGIN CATCH\n",
                "        INSERT INTO BackupLog (database_name, error_message)\n",
                "        VALUES ('covid', ERROR_MESSAGE());\n",
                "    END CATCH\n",
                "END;"
            ],
            "metadata": {
                "azdata_cell_guid": "d328edac-0525-4551-ad11-7a0b7359a24d",
                "language": "sql"
            },
            "outputs": [
                {
                    "output_type": "display_data",
                    "data": {
                        "text/html": "Commands completed successfully."
                    },
                    "metadata": {}
                },
                {
                    "output_type": "display_data",
                    "data": {
                        "text/html": "Commands completed successfully."
                    },
                    "metadata": {}
                },
                {
                    "output_type": "display_data",
                    "data": {
                        "text/html": "Total execution time: 00:00:00.030"
                    },
                    "metadata": {}
                }
            ],
            "execution_count": 3
        },
        {
            "cell_type": "code",
            "source": [
                "USE covid;\n",
                "GO\n",
                "\n",
                "SELECT * FROM BackupLog;\n",
                "GO"
            ],
            "metadata": {
                "language": "sql",
                "azdata_cell_guid": "45ea7b35-60cb-4f8d-a38c-2ab8e7b840dd"
            },
            "outputs": [
                {
                    "output_type": "display_data",
                    "data": {
                        "text/html": "Commands completed successfully."
                    },
                    "metadata": {}
                },
                {
                    "output_type": "display_data",
                    "data": {
                        "text/html": "(0 rows affected)"
                    },
                    "metadata": {}
                },
                {
                    "output_type": "display_data",
                    "data": {
                        "text/html": "Total execution time: 00:00:00.019"
                    },
                    "metadata": {}
                },
                {
                    "output_type": "execute_result",
                    "execution_count": 4,
                    "data": {
                        "application/vnd.dataresource+json": {
                            "schema": {
                                "fields": [
                                    {
                                        "name": "id"
                                    },
                                    {
                                        "name": "database_name"
                                    },
                                    {
                                        "name": "backup_start"
                                    },
                                    {
                                        "name": "backup_end"
                                    },
                                    {
                                        "name": "backup_size_MB"
                                    },
                                    {
                                        "name": "backup_path"
                                    },
                                    {
                                        "name": "error_message"
                                    },
                                    {
                                        "name": "log_date"
                                    }
                                ]
                            },
                            "data": []
                        },
                        "text/html": "<table><tr><th>id</th><th>database_name</th><th>backup_start</th><th>backup_end</th><th>backup_size_MB</th><th>backup_path</th><th>error_message</th><th>log_date</th></tr></table>"
                    },
                    "metadata": {}
                }
            ],
            "execution_count": 4
        },
        {
            "cell_type": "markdown",
            "source": [
                "### **8\\. Mail Adresi Oluşturma**"
            ],
            "metadata": {
                "language": "sql",
                "azdata_cell_guid": "20f59886-c1f2-453e-a7bf-16c6a013857d"
            },
            "attachments": {}
        },
        {
            "cell_type": "code",
            "source": [
                "USE msdb;\n",
                "GO\n",
                "EXEC sp_configure 'show advanced options', 1;\n",
                "RECONFIGURE;\n",
                "EXEC sp_configure 'Database Mail XPs', 1;\n",
                "RECONFIGURE;\n",
                "GO"
            ],
            "metadata": {
                "language": "sql",
                "azdata_cell_guid": "f766c783-258f-404c-85f0-357b73ac67be",
                "tags": []
            },
            "outputs": [
                {
                    "output_type": "display_data",
                    "data": {
                        "text/html": "Commands completed successfully."
                    },
                    "metadata": {}
                },
                {
                    "output_type": "display_data",
                    "data": {
                        "text/html": "Configuration option 'show advanced options' changed from 1 to 1. Run the RECONFIGURE statement to install."
                    },
                    "metadata": {}
                },
                {
                    "output_type": "error",
                    "ename": "",
                    "evalue": "Msg 15392, Level 16, State 1, Procedure sp_configure, Line 166\nThe specified option 'Database Mail XPs' is not supported by this edition of SQL Server and cannot be changed using sp_configure.",
                    "traceback": []
                },
                {
                    "output_type": "display_data",
                    "data": {
                        "text/html": "Total execution time: 00:00:00.078"
                    },
                    "metadata": {}
                }
            ],
            "execution_count": 1
        },
        {
            "cell_type": "markdown",
            "source": [
                "## SMPT Hesap Ayarları"
            ],
            "metadata": {
                "azdata_cell_guid": "5945142e-3357-41ae-bf5f-6c79de4f5e21",
                "language": ""
            },
            "attachments": {}
        },
        {
            "cell_type": "code",
            "source": [
                "EXEC msdb.dbo.sysmail_add_account_sp\n",
                "    @account_name = 'DBA_Notifications',\n",
                "    @email_address = 'persuren@gmail.com',  \n",
                "    @display_name = 'SQL Server DBA Alerts',\n",
                "    @mailserver_name = 'smtp.gmail.com',  \n",
                "    @port = 587,\n",
                "    @username = 'persuren',      \n",
                "    @password = 'A93dp3!',            \n",
                "    @enable_ssl = 1;                        \n",
                "GO\n",
                "\n",
                "EXEC msdb.dbo.sysmail_add_profile_sp\n",
                "    @profile_name = 'DBA_Profile';\n",
                "GO\n",
                "\n",
                "EXEC msdb.dbo.sysmail_add_profileaccount_sp\n",
                "    @profile_name = 'DBA_Profile',\n",
                "    @account_name = 'DBA_Notifications',\n",
                "    @sequence_number = 1;\n",
                "GO"
            ],
            "metadata": {
                "language": "sql",
                "azdata_cell_guid": "61c4c309-a82e-48fd-bab8-4335dc5c7ed0"
            },
            "outputs": [
                {
                    "output_type": "display_data",
                    "data": {
                        "text/html": "Commands completed successfully."
                    },
                    "metadata": {}
                },
                {
                    "output_type": "display_data",
                    "data": {
                        "text/html": "Commands completed successfully."
                    },
                    "metadata": {}
                },
                {
                    "output_type": "display_data",
                    "data": {
                        "text/html": "Commands completed successfully."
                    },
                    "metadata": {}
                },
                {
                    "output_type": "display_data",
                    "data": {
                        "text/html": "Total execution time: 00:00:00.120"
                    },
                    "metadata": {}
                }
            ],
            "execution_count": 1
        },
        {
            "cell_type": "code",
            "source": [
                "USE msdb;\n",
                "GO\n",
                "EXEC dbo.sp_update_operator \n",
                "    @name = N'DBA_Team_2',\n",
                "    @email_address = N'persuren@gmail.com', \n",
                "    @pager_address = N'', \n",
                "    @weekday_pager_start_time = 0, \n",
                "    @weekday_pager_end_time = 235959, \n",
                "    @pager_days = 0, \n",
                "    @netsend_address = N'', \n",
                "    @category_name = N'[Uncategorized]',\n",
                "    @enabled = 1;\n",
                "GO\n",
                ""
            ],
            "metadata": {
                "language": "sql",
                "azdata_cell_guid": "0b066a37-bbcf-4393-9bcc-062f4682a649"
            },
            "outputs": [
                {
                    "output_type": "display_data",
                    "data": {
                        "text/html": "Commands completed successfully."
                    },
                    "metadata": {}
                },
                {
                    "output_type": "display_data",
                    "data": {
                        "text/html": "Commands completed successfully."
                    },
                    "metadata": {}
                },
                {
                    "output_type": "display_data",
                    "data": {
                        "text/html": "Total execution time: 00:00:00.072"
                    },
                    "metadata": {}
                }
            ],
            "execution_count": 2
        },
        {
            "cell_type": "code",
            "source": [
                "CREATE OR ALTER PROCEDURE usp_Backup_CovidDB\n",
                "AS\n",
                "BEGIN\n",
                "    BEGIN TRY\n",
                "        DECLARE @path NVARCHAR(500) = N'C:\\Backup\\covid.bak';\n",
                "        BACKUP DATABASE [covid] TO DISK = @path WITH COMPRESSION;\n",
                "    END TRY\n",
                "    BEGIN CATCH\n",
                "        DECLARE @errorMessage NVARCHAR(MAX) = ERROR_MESSAGE();\n",
                "\n",
                "        INSERT INTO BackupLog (database_name, error_message) \n",
                "        VALUES ('covid', @errorMessage);\n",
                "\n",
                "        EXEC msdb.dbo.sp_send_dbmail\n",
                "            @profile_name = 'DBA_Profile',                    \n",
                "            @recipients = 'persuren@gmail.com',               \n",
                "            @subject = 'COVID Veritabanı Yedekleme Hatası',\n",
                "            @body = 'Yedekleme işlemi sırasında şu hata oluştu: ' + @errorMessage;\n",
                "    END CATCH\n",
                "END;\n",
                "GO"
            ],
            "metadata": {
                "language": "sql",
                "azdata_cell_guid": "af4ed58f-d7e8-47ba-91bc-4a56a4fd27cc",
                "tags": []
            },
            "outputs": [
                {
                    "output_type": "display_data",
                    "data": {
                        "text/html": "Commands completed successfully."
                    },
                    "metadata": {}
                },
                {
                    "output_type": "display_data",
                    "data": {
                        "text/html": "Total execution time: 00:00:00.088"
                    },
                    "metadata": {}
                }
            ],
            "execution_count": 3
        },
        {
            "cell_type": "code",
            "source": [
                "USE covid;\n",
                "GO\n",
                "\n",
                "CREATE OR ALTER PROCEDURE usp_Backup_CovidDB\n",
                "AS\n",
                "BEGIN\n",
                "    BEGIN TRY\n",
                "        DECLARE @path NVARCHAR(500) = N'/invalid_directory/covid.bak';\n",
                "        BACKUP DATABASE [covid] TO DISK = @path WITH COMPRESSION, STATS = 10;\n",
                "    END TRY\n",
                "    BEGIN CATCH\n",
                "        INSERT INTO BackupLog (database_name, error_message)\n",
                "        VALUES ('covid', ERROR_MESSAGE());\n",
                "    END CATCH\n",
                "END;\n",
                "GO"
            ],
            "metadata": {
                "language": "sql",
                "azdata_cell_guid": "8b4aabfb-e3cc-43a3-bba7-a861c0cf18db"
            },
            "outputs": [
                {
                    "output_type": "display_data",
                    "data": {
                        "text/html": "Commands completed successfully."
                    },
                    "metadata": {}
                },
                {
                    "output_type": "display_data",
                    "data": {
                        "text/html": "Commands completed successfully."
                    },
                    "metadata": {}
                },
                {
                    "output_type": "display_data",
                    "data": {
                        "text/html": "Total execution time: 00:00:00.039"
                    },
                    "metadata": {}
                }
            ],
            "execution_count": 10
        },
        {
            "cell_type": "code",
            "source": [
                "USE covid;\n",
                "GO\n",
                "EXEC usp_Backup_CovidDB;"
            ],
            "metadata": {
                "language": "sql",
                "azdata_cell_guid": "646be63d-ea35-4082-8159-1042db23d279"
            },
            "outputs": [
                {
                    "output_type": "display_data",
                    "data": {
                        "text/html": "Commands completed successfully."
                    },
                    "metadata": {}
                },
                {
                    "output_type": "display_data",
                    "data": {
                        "text/html": "(1 row affected)"
                    },
                    "metadata": {}
                },
                {
                    "output_type": "display_data",
                    "data": {
                        "text/html": "Total execution time: 00:00:00.120"
                    },
                    "metadata": {}
                }
            ],
            "execution_count": 11
        },
        {
            "cell_type": "code",
            "source": [
                "USE covid;\n",
                "GO\n",
                "SELECT * FROM BackupLog;"
            ],
            "metadata": {
                "language": "sql",
                "azdata_cell_guid": "2762912e-2c22-4fe1-b079-200352e16f08"
            },
            "outputs": [
                {
                    "output_type": "display_data",
                    "data": {
                        "text/html": "Commands completed successfully."
                    },
                    "metadata": {}
                },
                {
                    "output_type": "display_data",
                    "data": {
                        "text/html": "(1 row affected)"
                    },
                    "metadata": {}
                },
                {
                    "output_type": "display_data",
                    "data": {
                        "text/html": "Total execution time: 00:00:00.060"
                    },
                    "metadata": {}
                },
                {
                    "output_type": "execute_result",
                    "execution_count": 12,
                    "data": {
                        "application/vnd.dataresource+json": {
                            "schema": {
                                "fields": [
                                    {
                                        "name": "id"
                                    },
                                    {
                                        "name": "database_name"
                                    },
                                    {
                                        "name": "backup_start"
                                    },
                                    {
                                        "name": "backup_end"
                                    },
                                    {
                                        "name": "backup_size_MB"
                                    },
                                    {
                                        "name": "backup_path"
                                    },
                                    {
                                        "name": "error_message"
                                    },
                                    {
                                        "name": "log_date"
                                    }
                                ]
                            },
                            "data": [
                                {
                                    "id": "1",
                                    "database_name": "covid",
                                    "backup_start": "NULL",
                                    "backup_end": "NULL",
                                    "backup_size_MB": "NULL",
                                    "backup_path": "NULL",
                                    "error_message": "BACKUP DATABASE is terminating abnormally.",
                                    "log_date": "2025-05-04 15:02:38.360"
                                }
                            ]
                        },
                        "text/html": "<table><tr><th>id</th><th>database_name</th><th>backup_start</th><th>backup_end</th><th>backup_size_MB</th><th>backup_path</th><th>error_message</th><th>log_date</th></tr><tr><td>1</td><td>covid</td><td>NULL</td><td>NULL</td><td>NULL</td><td>NULL</td><td>BACKUP DATABASE is terminating abnormally.</td><td>2025-05-04 15:02:38.360</td></tr></table>"
                    },
                    "metadata": {}
                }
            ],
            "execution_count": 12
        },
        {
            "cell_type": "code",
            "source": [
                "BEGIN TRY\n",
                "    DECLARE @path NVARCHAR(500) = N'/invalid_directory/covid.bak';\n",
                "    BACKUP DATABASE [covid] TO DISK = @path;\n",
                "END TRY\n",
                "BEGIN CATCH\n",
                "    SELECT ERROR_MESSAGE() AS ErrorMessage;\n",
                "END CATCH"
            ],
            "metadata": {
                "language": "sql",
                "azdata_cell_guid": "2a653a02-4f6c-4907-bdff-8d1d75031205"
            },
            "outputs": [
                {
                    "output_type": "display_data",
                    "data": {
                        "text/html": "(1 row affected)"
                    },
                    "metadata": {}
                },
                {
                    "output_type": "display_data",
                    "data": {
                        "text/html": "Total execution time: 00:00:00.207"
                    },
                    "metadata": {}
                },
                {
                    "output_type": "execute_result",
                    "execution_count": 13,
                    "data": {
                        "application/vnd.dataresource+json": {
                            "schema": {
                                "fields": [
                                    {
                                        "name": "ErrorMessage"
                                    }
                                ]
                            },
                            "data": [
                                {
                                    "ErrorMessage": "BACKUP DATABASE is terminating abnormally."
                                }
                            ]
                        },
                        "text/html": "<table><tr><th>ErrorMessage</th></tr><tr><td>BACKUP DATABASE is terminating abnormally.</td></tr></table>"
                    },
                    "metadata": {}
                }
            ],
            "execution_count": 13
        },
        {
            "cell_type": "code",
            "source": [
                "USE covid;\n",
                "GO\n",
                "CREATE OR ALTER PROCEDURE usp_Backup_CovidDB\n",
                "AS\n",
                "BEGIN\n",
                "    BEGIN TRY\n",
                "        DECLARE @path NVARCHAR(500) = N'/invalid_path/covid.bak';\n",
                "        BACKUP DATABASE [covid] TO DISK = @path WITH COMPRESSION;\n",
                "    END TRY\n",
                "    BEGIN CATCH\n",
                "        DECLARE @errorMessage NVARCHAR(MAX) = ERROR_MESSAGE();\n",
                "        INSERT INTO BackupLog (database_name, error_message) VALUES ('covid', @errorMessage);\n",
                "\n",
                "        DECLARE @escapedErrorMessage NVARCHAR(MAX) = REPLACE(@errorMessage, '\"', '\\\"');\n",
                "\n",
                "        DECLARE @cmd NVARCHAR(MAX) = N'python3 /scripts/send_email.py \"' + @escapedErrorMessage + '\"';\n",
                "        EXEC xp_cmdshell @cmd;\n",
                "    END CATCH\n",
                "END;\n",
                "GO"
            ],
            "metadata": {
                "language": "sql",
                "azdata_cell_guid": "d079c1a8-cf65-43d2-86df-d11a77953327"
            },
            "outputs": [
                {
                    "output_type": "display_data",
                    "data": {
                        "text/html": "Commands completed successfully."
                    },
                    "metadata": {}
                },
                {
                    "output_type": "display_data",
                    "data": {
                        "text/html": "Commands completed successfully."
                    },
                    "metadata": {}
                },
                {
                    "output_type": "display_data",
                    "data": {
                        "text/html": "Total execution time: 00:00:00.054"
                    },
                    "metadata": {}
                }
            ],
            "execution_count": 14
        },
        {
            "cell_type": "code",
            "source": [
                "USE covid;\n",
                "GO\n",
                "EXEC usp_Backup_CovidDB;"
            ],
            "metadata": {
                "language": "sql",
                "azdata_cell_guid": "7d666e71-44a4-46da-8474-739f555b7f2a"
            },
            "outputs": [
                {
                    "output_type": "display_data",
                    "data": {
                        "text/html": "Commands completed successfully."
                    },
                    "metadata": {}
                },
                {
                    "output_type": "display_data",
                    "data": {
                        "text/html": "(1 row affected)"
                    },
                    "metadata": {}
                },
                {
                    "output_type": "error",
                    "ename": "",
                    "evalue": "Msg 15281, Level 16, State 1, Procedure xp_cmdshell, Line 1\nSQL Server blocked access to procedure 'sys.xp_cmdshell' of component 'xp_cmdshell' because this component is turned off as part of the security configuration for this server. A system administrator can enable the use of 'xp_cmdshell' by using sp_configure. For more information about enabling 'xp_cmdshell', search for 'xp_cmdshell' in SQL Server Books Online.",
                    "traceback": []
                },
                {
                    "output_type": "display_data",
                    "data": {
                        "text/html": "Total execution time: 00:00:00.137"
                    },
                    "metadata": {}
                }
            ],
            "execution_count": 15
        },
        {
            "cell_type": "code",
            "source": [
                "USE covid;\n",
                "GO\n",
                "SELECT * FROM BackupLog;"
            ],
            "metadata": {
                "azdata_cell_guid": "0dd1111d-9891-4be0-b23b-273290d1d33c",
                "language": "sql"
            },
            "outputs": [
                {
                    "output_type": "display_data",
                    "data": {
                        "text/html": "Commands completed successfully."
                    },
                    "metadata": {}
                },
                {
                    "output_type": "display_data",
                    "data": {
                        "text/html": "(2 rows affected)"
                    },
                    "metadata": {}
                },
                {
                    "output_type": "display_data",
                    "data": {
                        "text/html": "Total execution time: 00:00:00.040"
                    },
                    "metadata": {}
                },
                {
                    "output_type": "execute_result",
                    "execution_count": 16,
                    "data": {
                        "application/vnd.dataresource+json": {
                            "schema": {
                                "fields": [
                                    {
                                        "name": "id"
                                    },
                                    {
                                        "name": "database_name"
                                    },
                                    {
                                        "name": "backup_start"
                                    },
                                    {
                                        "name": "backup_end"
                                    },
                                    {
                                        "name": "backup_size_MB"
                                    },
                                    {
                                        "name": "backup_path"
                                    },
                                    {
                                        "name": "error_message"
                                    },
                                    {
                                        "name": "log_date"
                                    }
                                ]
                            },
                            "data": [
                                {
                                    "id": "1",
                                    "database_name": "covid",
                                    "backup_start": "NULL",
                                    "backup_end": "NULL",
                                    "backup_size_MB": "NULL",
                                    "backup_path": "NULL",
                                    "error_message": "BACKUP DATABASE is terminating abnormally.",
                                    "log_date": "2025-05-04 15:02:38.360"
                                },
                                {
                                    "id": "2",
                                    "database_name": "covid",
                                    "backup_start": "NULL",
                                    "backup_end": "NULL",
                                    "backup_size_MB": "NULL",
                                    "backup_path": "NULL",
                                    "error_message": "BACKUP DATABASE is terminating abnormally.",
                                    "log_date": "2025-05-04 15:18:27.420"
                                }
                            ]
                        },
                        "text/html": "<table><tr><th>id</th><th>database_name</th><th>backup_start</th><th>backup_end</th><th>backup_size_MB</th><th>backup_path</th><th>error_message</th><th>log_date</th></tr><tr><td>1</td><td>covid</td><td>NULL</td><td>NULL</td><td>NULL</td><td>NULL</td><td>BACKUP DATABASE is terminating abnormally.</td><td>2025-05-04 15:02:38.360</td></tr><tr><td>2</td><td>covid</td><td>NULL</td><td>NULL</td><td>NULL</td><td>NULL</td><td>BACKUP DATABASE is terminating abnormally.</td><td>2025-05-04 15:18:27.420</td></tr></table>"
                    },
                    "metadata": {}
                }
            ],
            "execution_count": 16
        }
    ]
}