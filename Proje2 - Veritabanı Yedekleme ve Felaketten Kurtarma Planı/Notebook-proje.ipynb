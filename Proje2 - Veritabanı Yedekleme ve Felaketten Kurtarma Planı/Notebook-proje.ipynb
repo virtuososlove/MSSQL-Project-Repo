{
    "metadata": {
        "kernelspec": {
            "name": "SQL",
            "display_name": "SQL",
            "language": "sql"
        },
        "language_info": {
            "name": "sql",
            "version": ""
        }
    },
    "nbformat_minor": 2,
    "nbformat": 4,
    "cells": [
        {
            "cell_type": "code",
            "source": [
                "CREATE DATABASE spotify;"
            ],
            "metadata": {
                "language": "sql",
                "azdata_cell_guid": "83708d90-8b2a-4a1d-b33f-5d7b60f28286"
            },
            "outputs": [
                {
                    "output_type": "display_data",
                    "data": {
                        "text/html": "Commands completed successfully."
                    },
                    "metadata": {}
                },
                {
                    "output_type": "display_data",
                    "data": {
                        "text/html": "Total execution time: 00:00:00.521"
                    },
                    "metadata": {}
                }
            ],
            "execution_count": 7
        },
        {
            "cell_type": "markdown",
            "source": [
                "## **1- TAM, ARTIK, FARK YEDEKLEMELERİ**"
            ],
            "metadata": {
                "azdata_cell_guid": "477c6dba-3a00-4a6a-a70c-270347bb0680"
            },
            "attachments": {}
        },
        {
            "cell_type": "markdown",
            "source": [
                "## **_<u>Tüm Veritabanını (Full Backup) Yedekleme</u>_**"
            ],
            "metadata": {
                "language": "",
                "azdata_cell_guid": "939ee6c7-3d38-408f-a369-630614f6a58a"
            },
            "attachments": {}
        },
        {
            "cell_type": "code",
            "source": [
                "BACKUP DATABASE spotify\n",
                "TO DISK = '/var/opt/mssql/backup/spotify_full.bak'\n",
                "WITH INIT,\n",
                "     NAME = 'Full Backup of spotify',\n",
                "     STATS = 10;"
            ],
            "metadata": {
                "azdata_cell_guid": "c96e6019-3d5d-4090-966a-9a997d08a4dc",
                "language": "sql"
            },
            "outputs": [
                {
                    "output_type": "display_data",
                    "data": {
                        "text/html": "11 percent processed."
                    },
                    "metadata": {}
                },
                {
                    "output_type": "display_data",
                    "data": {
                        "text/html": "21 percent processed."
                    },
                    "metadata": {}
                },
                {
                    "output_type": "display_data",
                    "data": {
                        "text/html": "31 percent processed."
                    },
                    "metadata": {}
                },
                {
                    "output_type": "display_data",
                    "data": {
                        "text/html": "41 percent processed."
                    },
                    "metadata": {}
                },
                {
                    "output_type": "display_data",
                    "data": {
                        "text/html": "51 percent processed."
                    },
                    "metadata": {}
                },
                {
                    "output_type": "display_data",
                    "data": {
                        "text/html": "61 percent processed."
                    },
                    "metadata": {}
                },
                {
                    "output_type": "display_data",
                    "data": {
                        "text/html": "70 percent processed."
                    },
                    "metadata": {}
                },
                {
                    "output_type": "display_data",
                    "data": {
                        "text/html": "80 percent processed."
                    },
                    "metadata": {}
                },
                {
                    "output_type": "display_data",
                    "data": {
                        "text/html": "90 percent processed."
                    },
                    "metadata": {}
                },
                {
                    "output_type": "display_data",
                    "data": {
                        "text/html": "100 percent processed."
                    },
                    "metadata": {}
                },
                {
                    "output_type": "display_data",
                    "data": {
                        "text/html": "Processed 416 pages for database 'spotify', file 'spotify' on file 1."
                    },
                    "metadata": {}
                },
                {
                    "output_type": "display_data",
                    "data": {
                        "text/html": "Processed 2 pages for database 'spotify', file 'spotify_log' on file 1."
                    },
                    "metadata": {}
                },
                {
                    "output_type": "display_data",
                    "data": {
                        "text/html": "BACKUP DATABASE successfully processed 418 pages in 0.051 seconds (63.955 MB/sec)."
                    },
                    "metadata": {}
                },
                {
                    "output_type": "display_data",
                    "data": {
                        "text/html": "Total execution time: 00:00:00.162"
                    },
                    "metadata": {}
                }
            ],
            "execution_count": 1
        },
        {
            "cell_type": "markdown",
            "source": [
                "## **_<u>Artık Yedeklemeler (Transaction Log Backup)</u>_**"
            ],
            "metadata": {
                "azdata_cell_guid": "f26ecb2c-71a7-4cb0-9b1e-7740114f1cb8",
                "language": ""
            },
            "attachments": {}
        },
        {
            "cell_type": "code",
            "source": [
                "ALTER DATABASE spotify SET RECOVERY FULL;"
            ],
            "metadata": {
                "azdata_cell_guid": "de178aa5-1ba6-4fef-b95c-577876a6783e",
                "language": "sql"
            },
            "outputs": [
                {
                    "output_type": "display_data",
                    "data": {
                        "text/html": "Commands completed successfully."
                    },
                    "metadata": {}
                },
                {
                    "output_type": "display_data",
                    "data": {
                        "text/html": "Total execution time: 00:00:00.037"
                    },
                    "metadata": {}
                }
            ],
            "execution_count": 6
        },
        {
            "cell_type": "code",
            "source": [
                "SELECT name, recovery_model_desc\n",
                "FROM sys.databases\n",
                "WHERE name = 'spotify';"
            ],
            "metadata": {
                "language": "sql",
                "azdata_cell_guid": "c82d3ab1-cda4-4206-9ab7-1256cc6fdeac"
            },
            "outputs": [
                {
                    "output_type": "display_data",
                    "data": {
                        "text/html": "(1 row affected)"
                    },
                    "metadata": {}
                },
                {
                    "output_type": "display_data",
                    "data": {
                        "text/html": "Total execution time: 00:00:00.010"
                    },
                    "metadata": {}
                },
                {
                    "output_type": "execute_result",
                    "metadata": {},
                    "execution_count": 8,
                    "data": {
                        "application/vnd.dataresource+json": {
                            "schema": {
                                "fields": [
                                    {
                                        "name": "name"
                                    },
                                    {
                                        "name": "recovery_model_desc"
                                    }
                                ]
                            },
                            "data": [
                                {
                                    "name": "spotify",
                                    "recovery_model_desc": "FULL"
                                }
                            ]
                        },
                        "text/html": [
                            "<table>",
                            "<tr><th>name</th><th>recovery_model_desc</th></tr>",
                            "<tr><td>spotify</td><td>FULL</td></tr>",
                            "</table>"
                        ]
                    }
                }
            ],
            "execution_count": 8
        },
        {
            "cell_type": "code",
            "source": [
                "BACKUP LOG spotify\n",
                "TO DISK = '/var/opt/mssql/backup/spotify_log.trn'\n",
                "WITH INIT,\n",
                "     NAME = 'First Transaction Log Backup of spotify',\n",
                "     STATS = 10;"
            ],
            "metadata": {
                "azdata_cell_guid": "dd5de853-d2e0-4c64-a652-513a2b7fa5d8",
                "language": "sql"
            },
            "outputs": [
                {
                    "output_type": "display_data",
                    "data": {
                        "text/html": "100 percent processed."
                    },
                    "metadata": {}
                },
                {
                    "output_type": "display_data",
                    "data": {
                        "text/html": "Processed 2 pages for database 'spotify', file 'spotify_log' on file 1."
                    },
                    "metadata": {}
                },
                {
                    "output_type": "display_data",
                    "data": {
                        "text/html": "BACKUP LOG successfully processed 2 pages in 0.005 seconds (2.343 MB/sec)."
                    },
                    "metadata": {}
                },
                {
                    "output_type": "display_data",
                    "data": {
                        "text/html": "Total execution time: 00:00:00.125"
                    },
                    "metadata": {}
                }
            ],
            "execution_count": 13
        },
        {
            "cell_type": "code",
            "source": [
                "BACKUP LOG spotify\n",
                "TO DISK = '/var/opt/mssql/backup/spotify_log.trn'\n",
                "WITH INIT,\n",
                "     NAME = 'Transaction Log Backup of spotify',\n",
                "     STATS = 10;"
            ],
            "metadata": {
                "azdata_cell_guid": "94a0adc1-2cf4-4a2f-849e-2bd91b7cc6b9",
                "language": "sql"
            },
            "outputs": [
                {
                    "output_type": "error",
                    "evalue": "Msg 4214, Level 16, State 1, Line 1\nBACKUP LOG cannot be performed because there is no current database backup.",
                    "ename": "",
                    "traceback": []
                },
                {
                    "output_type": "error",
                    "evalue": "Msg 3013, Level 16, State 1, Line 1\nBACKUP LOG is terminating abnormally.",
                    "ename": "",
                    "traceback": []
                },
                {
                    "output_type": "display_data",
                    "data": {
                        "text/html": "Total execution time: 00:00:00.027"
                    },
                    "metadata": {}
                }
            ],
            "execution_count": 9
        },
        {
            "cell_type": "markdown",
            "source": [
                "## **_<u>Fark Yedekleme (Differential Backup)</u>_**"
            ],
            "metadata": {
                "language": "",
                "azdata_cell_guid": "b4bde12d-84f6-4564-b911-0d6a7b6cbf20"
            },
            "attachments": {}
        },
        {
            "cell_type": "code",
            "source": [
                "BACKUP DATABASE spotify\n",
                "TO DISK = '/var/opt/mssql/backup/spotify_diff.bak'\n",
                "WITH DIFFERENTIAL,\n",
                "     INIT,\n",
                "     NAME = 'Differential Backup of spotify',\n",
                "     STATS = 10;\n",
                ""
            ],
            "metadata": {
                "language": "sql",
                "azdata_cell_guid": "13df04ed-3509-4ad6-9e26-8f05e2890275"
            },
            "outputs": [
                {
                    "output_type": "display_data",
                    "data": {
                        "text/html": "10 percent processed."
                    },
                    "metadata": {}
                },
                {
                    "output_type": "display_data",
                    "data": {
                        "text/html": "21 percent processed."
                    },
                    "metadata": {}
                },
                {
                    "output_type": "display_data",
                    "data": {
                        "text/html": "32 percent processed."
                    },
                    "metadata": {}
                },
                {
                    "output_type": "display_data",
                    "data": {
                        "text/html": "43 percent processed."
                    },
                    "metadata": {}
                },
                {
                    "output_type": "display_data",
                    "data": {
                        "text/html": "54 percent processed."
                    },
                    "metadata": {}
                },
                {
                    "output_type": "display_data",
                    "data": {
                        "text/html": "65 percent processed."
                    },
                    "metadata": {}
                },
                {
                    "output_type": "display_data",
                    "data": {
                        "text/html": "70 percent processed."
                    },
                    "metadata": {}
                },
                {
                    "output_type": "display_data",
                    "data": {
                        "text/html": "81 percent processed."
                    },
                    "metadata": {}
                },
                {
                    "output_type": "display_data",
                    "data": {
                        "text/html": "92 percent processed."
                    },
                    "metadata": {}
                },
                {
                    "output_type": "display_data",
                    "data": {
                        "text/html": "100 percent processed."
                    },
                    "metadata": {}
                },
                {
                    "output_type": "display_data",
                    "data": {
                        "text/html": "Processed 160 pages for database 'spotify', file 'spotify' on file 1."
                    },
                    "metadata": {}
                },
                {
                    "output_type": "display_data",
                    "data": {
                        "text/html": "Processed 2 pages for database 'spotify', file 'spotify_log' on file 1."
                    },
                    "metadata": {}
                },
                {
                    "output_type": "display_data",
                    "data": {
                        "text/html": "BACKUP DATABASE WITH DIFFERENTIAL successfully processed 162 pages in 0.050 seconds (25.234 MB/sec)."
                    },
                    "metadata": {}
                },
                {
                    "output_type": "display_data",
                    "data": {
                        "text/html": "Total execution time: 00:00:00.244"
                    },
                    "metadata": {}
                }
            ],
            "execution_count": 11
        },
        {
            "cell_type": "markdown",
            "source": [
                "## **_2-_ ZAMANLAYICI İLE YEDEKLEME OTOMASYONU (Scheduled Backup Job)**"
            ],
            "metadata": {
                "azdata_cell_guid": "10ac6ce6-f623-42cb-b247-6204dc74e1cb"
            },
            "attachments": {}
        },
        {
            "cell_type": "code",
            "source": [
                "SELECT servicename, status_desc\n",
                "FROM sys.dm_server_services\n",
                "WHERE servicename LIKE '%SQL Server Agent%';"
            ],
            "metadata": {
                "azdata_cell_guid": "cd376cf6-521b-4365-a242-2b32061e48ae",
                "language": "sql"
            },
            "outputs": [
                {
                    "output_type": "display_data",
                    "data": {
                        "text/html": "(1 row affected)"
                    },
                    "metadata": {}
                },
                {
                    "output_type": "display_data",
                    "data": {
                        "text/html": "Total execution time: 00:00:00.053"
                    },
                    "metadata": {}
                },
                {
                    "output_type": "execute_result",
                    "metadata": {},
                    "execution_count": 15,
                    "data": {
                        "application/vnd.dataresource+json": {
                            "schema": {
                                "fields": [
                                    {
                                        "name": "servicename"
                                    },
                                    {
                                        "name": "status_desc"
                                    }
                                ]
                            },
                            "data": [
                                {
                                    "servicename": "SQL Server Agent (MSSQLSERVER)",
                                    "status_desc": "Running"
                                }
                            ]
                        },
                        "text/html": [
                            "<table>",
                            "<tr><th>servicename</th><th>status_desc</th></tr>",
                            "<tr><td>SQL Server Agent (MSSQLSERVER)</td><td>Running</td></tr>",
                            "</table>"
                        ]
                    }
                }
            ],
            "execution_count": 15
        },
        {
            "cell_type": "markdown",
            "source": [
                "**SQL Server Agent ile devam etmek için** <span style=\"font-family: -apple-system, BlinkMacSystemFont, sans-serif; color: var(--vscode-foreground);\"><b>Server Agent Extension ile</b></span> **yeni bir Job adımı oluşturacağız.**"
            ],
            "metadata": {
                "language": "",
                "azdata_cell_guid": "ff11edd6-b864-4403-9f8a-5d9f9be783d7"
            },
            "attachments": {}
        },
        {
            "cell_type": "code",
            "source": [
                "USE msdb;\n",
                "GO\n",
                "\n",
                "EXEC dbo.sp_add_job\n",
                "    @job_name = N'SpotifyDB_Backup_Job';\n",
                "GO\n",
                "\n",
                "EXEC sp_add_jobstep\n",
                "    @job_name = N'SpotifyDB_Backup_Job',\n",
                "    @step_name = N'Backup Spotify Database',\n",
                "    @subsystem = N'TSQL',\n",
                "    @command = N'BACKUP DATABASE [spotify] TO DISK = ''/var/opt/mssql/backups/spotify_$(ESCAPE_SQUOTE(DATE)).bak'' WITH COMPRESSION, STATS = 10',\n",
                "    @database_name = N'master';\n",
                "GO"
            ],
            "metadata": {
                "language": "sql",
                "azdata_cell_guid": "de61146e-f4fa-44d1-8761-dd0fb40576ce"
            },
            "outputs": [
                {
                    "output_type": "display_data",
                    "data": {
                        "text/html": "Commands completed successfully."
                    },
                    "metadata": {}
                },
                {
                    "output_type": "display_data",
                    "data": {
                        "text/html": "Commands completed successfully."
                    },
                    "metadata": {}
                },
                {
                    "output_type": "display_data",
                    "data": {
                        "text/html": "Commands completed successfully."
                    },
                    "metadata": {}
                },
                {
                    "output_type": "display_data",
                    "data": {
                        "text/html": "Total execution time: 00:00:00.269"
                    },
                    "metadata": {}
                }
            ],
            "execution_count": 16
        },
        {
            "cell_type": "code",
            "source": [
                "EXEC dbo.sp_add_schedule\n",
                "    @schedule_name = N'Daily_8AM',\n",
                "    @freq_type = 4, -- Daily\n",
                "    @freq_interval = 1, -- Every day\n",
                "    @active_start_time = 080000; -- 8:00 AM\n",
                "GO\n",
                "\n",
                "EXEC sp_attach_schedule\n",
                "    @job_name = N'SpotifyDB_Backup_Job',\n",
                "    @schedule_name = N'Daily_8AM';\n",
                "GO"
            ],
            "metadata": {
                "language": "sql",
                "azdata_cell_guid": "e6f0011e-416c-4d21-ba16-fd03230fbc0d"
            },
            "outputs": [
                {
                    "output_type": "display_data",
                    "data": {
                        "text/html": "Commands completed successfully."
                    },
                    "metadata": {}
                },
                {
                    "output_type": "display_data",
                    "data": {
                        "text/html": "Commands completed successfully."
                    },
                    "metadata": {}
                },
                {
                    "output_type": "display_data",
                    "data": {
                        "text/html": "Total execution time: 00:00:00.142"
                    },
                    "metadata": {}
                }
            ],
            "execution_count": 17
        },
        {
            "cell_type": "code",
            "source": [
                "EXEC dbo.sp_add_jobserver\n",
                "    @job_name = N'SpotifyDB_Backup_Job';\n",
                "GO"
            ],
            "metadata": {
                "language": "sql",
                "azdata_cell_guid": "17e98551-bc56-416a-bbb6-758259402977"
            },
            "outputs": [
                {
                    "output_type": "display_data",
                    "data": {
                        "text/html": "Commands completed successfully."
                    },
                    "metadata": {}
                },
                {
                    "output_type": "display_data",
                    "data": {
                        "text/html": "Total execution time: 00:00:00.322"
                    },
                    "metadata": {}
                }
            ],
            "execution_count": 18
        },
        {
            "cell_type": "markdown",
            "source": [
                "## **_<span style=\"font-size: 16.002px; background-color: rgb(255, 255, 255);\">Docker Volume ile yedeklerin kalıcı olması sağlanıyor.</span>_**  \n",
                "\n",
                "<span style=\"font-size: 12.573px; white-space-collapse: preserve; background-color: rgb(250, 250, 250);\">docker</span> <span style=\"color: rgb(73, 73, 73); font-family: Menlo, &quot;Roboto Mono&quot;, &quot;Courier New&quot;, Courier, monospace, Inter, sans-serif; font-size: 12.573px; white-space-collapse: preserve; background-color: rgb(250, 250, 250);\"> run </span> <span class=\"token parameter variable\" style=\"color: rgb(64, 120, 242); font-family: Menlo, &quot;Roboto Mono&quot;, &quot;Courier New&quot;, Courier, monospace, Inter, sans-serif; font-size: 12.573px; white-space-collapse: preserve; background-color: rgb(250, 250, 250);\">-e</span> <span class=\"token string\" style=\"color: rgb(80, 161, 79); font-family: Menlo, &quot;Roboto Mono&quot;, &quot;Courier New&quot;, Courier, monospace, Inter, sans-serif; font-size: 12.573px; white-space-collapse: preserve; background-color: rgb(250, 250, 250);\">\"MSSQL_AGENT_ENABLED=true\"</span> <span class=\"token parameter variable\" style=\"color: rgb(64, 120, 242); font-family: Menlo, &quot;Roboto Mono&quot;, &quot;Courier New&quot;, Courier, monospace, Inter, sans-serif; font-size: 12.573px; white-space-collapse: preserve; background-color: rgb(250, 250, 250);\">-d</span> <span class=\"token parameter variable\" style=\"color: rgb(64, 120, 242); font-family: Menlo, &quot;Roboto Mono&quot;, &quot;Courier New&quot;, Courier, monospace, Inter, sans-serif; font-size: 12.573px; white-space-collapse: preserve; background-color: rgb(250, 250, 250);\">-p</span> <span class=\"token number\" style=\"color: rgb(183, 107, 1); font-family: Menlo, &quot;Roboto Mono&quot;, &quot;Courier New&quot;, Courier, monospace, Inter, sans-serif; font-size: 12.573px; white-space-collapse: preserve; background-color: rgb(250, 250, 250);\">1433</span><span style=\"color: rgb(73, 73, 73); font-family: Menlo, &quot;Roboto Mono&quot;, &quot;Courier New&quot;, Courier, monospace, Inter, sans-serif; font-size: 12.573px; white-space-collapse: preserve; background-color: rgb(250, 250, 250);\">:1433 </span> <span class=\"token parameter variable\" style=\"color: rgb(64, 120, 242); font-family: Menlo, &quot;Roboto Mono&quot;, &quot;Courier New&quot;, Courier, monospace, Inter, sans-serif; font-size: 12.573px; white-space-collapse: preserve; background-color: rgb(250, 250, 250);\">--name</span> <span style=\"color: rgb(73, 73, 73); font-family: Menlo, &quot;Roboto Mono&quot;, &quot;Courier New&quot;, Courier, monospace, Inter, sans-serif; font-size: 12.573px; white-space-collapse: preserve; background-color: rgb(250, 250, 250);\"> sql_server_container </span> <span class=\"token parameter variable\" style=\"color: rgb(64, 120, 242); font-family: Menlo, &quot;Roboto Mono&quot;, &quot;Courier New&quot;, Courier, monospace, Inter, sans-serif; font-size: 12.573px; white-space-collapse: preserve; background-color: rgb(250, 250, 250);\">-e</span> <span class=\"token string\" style=\"color: rgb(80, 161, 79); font-family: Menlo, &quot;Roboto Mono&quot;, &quot;Courier New&quot;, Courier, monospace, Inter, sans-serif; font-size: 12.573px; white-space-collapse: preserve; background-color: rgb(250, 250, 250);\">\"ACCEPT_EULA=Y\"</span> <span class=\"token parameter variable\" style=\"color: rgb(64, 120, 242); font-family: Menlo, &quot;Roboto Mono&quot;, &quot;Courier New&quot;, Courier, monospace, Inter, sans-serif; font-size: 12.573px; white-space-collapse: preserve; background-color: rgb(250, 250, 250);\">-e</span> <span class=\"token string\" style=\"color: rgb(80, 161, 79); font-family: Menlo, &quot;Roboto Mono&quot;, &quot;Courier New&quot;, Courier, monospace, Inter, sans-serif; font-size: 12.573px; white-space-collapse: preserve; background-color: rgb(250, 250, 250);\">\"SA_PASSWORD=MyStrongPass123\"</span> <span class=\"token parameter variable\" style=\"color: rgb(64, 120, 242); font-family: Menlo, &quot;Roboto Mono&quot;, &quot;Courier New&quot;, Courier, monospace, Inter, sans-serif; font-size: 12.573px; white-space-collapse: preserve; background-color: rgb(250, 250, 250);\">-v</span> <span style=\"color: rgb(73, 73, 73); font-family: Menlo, &quot;Roboto Mono&quot;, &quot;Courier New&quot;, Courier, monospace, Inter, sans-serif; font-size: 12.573px; white-space-collapse: preserve; background-color: rgb(250, 250, 250);\"> sql_backups:/var/opt/mssql/backups mcr.microsoft.com/mssql/server:2019-latest</span>"
            ],
            "metadata": {
                "azdata_cell_guid": "0cf78b8c-7172-47c4-926f-15e22660a251"
            },
            "attachments": {}
        },
        {
            "cell_type": "markdown",
            "source": [
                "### **Alternatif olarak aynı işlemi Cron Job ile de yapabiliriz. Aşağıdaki kodu \"<span style=\"color: rgb(64, 64, 64); font-family: Menlo, &quot;Roboto Mono&quot;, &quot;Courier New&quot;, Courier, monospace, Inter, sans-serif; font-size: 14.0018px; background-color: rgb(236, 236, 236);\">/usr/local/bin/backup_spotify.sh</span>\" dosyası olarak kaydedeceğiz.**"
            ],
            "metadata": {
                "azdata_cell_guid": "d00509da-e42d-427d-86d4-6f3f3fbd4607"
            },
            "attachments": {}
        },
        {
            "cell_type": "markdown",
            "source": [
                "_CONTAINER\\_NAME=\"sql\\_server\\_container\"_\n",
                "\n",
                "_DB\\_USER=\"sa\"_\n",
                "\n",
                "_DB\\_PASS=\"MyStrongPass123”_\n",
                "\n",
                "_DB\\_NAME=\"spotify\"_\n",
                "\n",
                "_BACKUP\\_DIR=\"/var/opt/mssql/backups/\"_\n",
                "\n",
                "_BACKUP\\_FILE=\"${BACKUP\\_DIR}/spotify\\_$(date +%Y%m%d\\_%H%M%S).bak\"_\n",
                "\n",
                "_docker exec $CONTAINER\\_NAME /opt/mssql-tools/bin/sqlcmd -S localhost -U $DB\\_USER -P $DB\\_PASS -Q \"BACKUP DATABASE \\[$DB\\_NAME\\] TO DISK = N'/var/opt/mssql/backups/spotify.bak' WITH COMPRESSION, STATS = 10\"_\n",
                "\n",
                "_docker cp $CONTAINER\\_NAME:/var/opt/mssql/backups/spotify.bak $BACKUP\\_FILE_\n",
                "\n",
                "_find $BACKUP\\_DIR -name \"spotify\\_\\*.bak\" -type f -mtime +30 -exec rm {} \\\\;_\n",
                "\n",
                "_echo \"Backup completed: $BACKUP\\_FILE\"_"
            ],
            "metadata": {
                "azdata_cell_guid": "9dd6ced0-b9b9-4463-a41e-b11d3f9919d9"
            },
            "attachments": {}
        },
        {
            "cell_type": "markdown",
            "source": [
                "**Terminalimize de sırasıyla şu adımları yazacağız.**\n",
                "\n",
                "- chmod +x /usr/local/bin/backup\\_spotify.sh\n",
                "- crontab -e\n",
                "- 0 8 \\* \\* \\* /usr/local/bin/backup\\_spotify.sh \\>\\> /var/log/spotify\\_backup.log 2\\>&1"
            ],
            "metadata": {
                "azdata_cell_guid": "416c3ec9-580e-49cd-bf39-5b367ee5af71"
            },
            "attachments": {}
        },
        {
            "cell_type": "markdown",
            "source": [
                "**<u>Gerçekleştirilen Cron Job işlemlerine ait Google Drive Dosyasının linki : [https://drive.google.com/drive/folders/1FT7GK8yYlzd8SG7d3MNLk-71x0EzUuSy?usp=sharing](https://drive.google.com/drive/folders/1FT7GK8yYlzd8SG7d3MNLk-71x0EzUuSy?usp=sharing)</u>**"
            ],
            "metadata": {
                "azdata_cell_guid": "ce096feb-4a66-4122-a231-626ed6bcc428",
                "language": ""
            },
            "attachments": {}
        },
        {
            "cell_type": "code",
            "source": [
                "SELECT \n",
                "    database_name,\n",
                "    backup_start_date,\n",
                "    backup_finish_date,\n",
                "    type,\n",
                "    physical_device_name,\n",
                "    backup_size/1024/1024 AS backup_size_mb\n",
                "FROM msdb.dbo.backupset bs\n",
                "JOIN msdb.dbo.backupmediafamily bmf ON bs.media_set_id = bmf.media_set_id\n",
                "WHERE database_name = 'spotify'\n",
                "ORDER BY backup_start_date DESC;"
            ],
            "metadata": {
                "azdata_cell_guid": "0f2d9aff-f6b9-4f1d-bc56-8965e75786b9",
                "language": "sql"
            },
            "outputs": [
                {
                    "output_type": "display_data",
                    "data": {
                        "text/html": "(4 rows affected)"
                    },
                    "metadata": {}
                },
                {
                    "output_type": "display_data",
                    "data": {
                        "text/html": "Total execution time: 00:00:00.029"
                    },
                    "metadata": {}
                },
                {
                    "output_type": "execute_result",
                    "metadata": {},
                    "execution_count": 26,
                    "data": {
                        "application/vnd.dataresource+json": {
                            "schema": {
                                "fields": [
                                    {
                                        "name": "database_name"
                                    },
                                    {
                                        "name": "backup_start_date"
                                    },
                                    {
                                        "name": "backup_finish_date"
                                    },
                                    {
                                        "name": "type"
                                    },
                                    {
                                        "name": "physical_device_name"
                                    },
                                    {
                                        "name": "backup_size_mb"
                                    }
                                ]
                            },
                            "data": [
                                {
                                    "database_name": "spotify",
                                    "backup_start_date": "2025-04-23 12:01:43.000",
                                    "backup_finish_date": "2025-04-23 12:01:43.000",
                                    "type": "D",
                                    "physical_device_name": "/var/opt/mssql/backups/spotify_20250423.bak",
                                    "backup_size_mb": "3.39843750000"
                                },
                                {
                                    "database_name": "spotify",
                                    "backup_start_date": "2025-04-23 11:49:23.000",
                                    "backup_finish_date": "2025-04-23 11:49:23.000",
                                    "type": "L",
                                    "physical_device_name": "/var/opt/mssql/backup/spotify_log.trn",
                                    "backup_size_mb": "0.07812500000"
                                },
                                {
                                    "database_name": "spotify",
                                    "backup_start_date": "2025-04-23 11:49:04.000",
                                    "backup_finish_date": "2025-04-23 11:49:04.000",
                                    "type": "I",
                                    "physical_device_name": "/var/opt/mssql/backup/spotify_diff.bak",
                                    "backup_size_mb": "1.33593750000"
                                },
                                {
                                    "database_name": "spotify",
                                    "backup_start_date": "2025-04-23 11:40:44.000",
                                    "backup_finish_date": "2025-04-23 11:40:44.000",
                                    "type": "D",
                                    "physical_device_name": "/var/opt/mssql/backup/spotify_full.bak",
                                    "backup_size_mb": "3.33593750000"
                                }
                            ]
                        },
                        "text/html": [
                            "<table>",
                            "<tr><th>database_name</th><th>backup_start_date</th><th>backup_finish_date</th><th>type</th><th>physical_device_name</th><th>backup_size_mb</th></tr>",
                            "<tr><td>spotify</td><td>2025-04-23 12:01:43.000</td><td>2025-04-23 12:01:43.000</td><td>D</td><td>/var/opt/mssql/backups/spotify_20250423.bak</td><td>3.39843750000</td></tr>",
                            "<tr><td>spotify</td><td>2025-04-23 11:49:23.000</td><td>2025-04-23 11:49:23.000</td><td>L</td><td>/var/opt/mssql/backup/spotify_log.trn</td><td>0.07812500000</td></tr>",
                            "<tr><td>spotify</td><td>2025-04-23 11:49:04.000</td><td>2025-04-23 11:49:04.000</td><td>I</td><td>/var/opt/mssql/backup/spotify_diff.bak</td><td>1.33593750000</td></tr>",
                            "<tr><td>spotify</td><td>2025-04-23 11:40:44.000</td><td>2025-04-23 11:40:44.000</td><td>D</td><td>/var/opt/mssql/backup/spotify_full.bak</td><td>3.33593750000</td></tr>",
                            "</table>"
                        ]
                    }
                }
            ],
            "execution_count": 26
        },
        {
            "cell_type": "markdown",
            "source": [
                "## **3- FELAKETTEN KURTARMA SENARYOLARI**"
            ],
            "metadata": {
                "azdata_cell_guid": "0be4d89b-2fda-4ce6-b45b-6e9f455b056c"
            },
            "attachments": {}
        },
        {
            "cell_type": "code",
            "source": [
                "DROP DATABASE spotify;"
            ],
            "metadata": {
                "azdata_cell_guid": "9aac07c9-65c7-424d-b367-79b8dbd984e2",
                "language": "sql"
            },
            "outputs": [
                {
                    "output_type": "display_data",
                    "data": {
                        "text/html": "Commands completed successfully."
                    },
                    "metadata": {}
                },
                {
                    "output_type": "display_data",
                    "data": {
                        "text/html": "Total execution time: 00:00:00.114"
                    },
                    "metadata": {}
                }
            ],
            "execution_count": 32
        },
        {
            "cell_type": "code",
            "source": [
                "-- Veritabanındaki tüm bağlantıları sonlandır\n",
                "USE master;\n",
                "GO\n",
                "ALTER DATABASE spotify SET SINGLE_USER WITH ROLLBACK IMMEDIATE;\n",
                "GO\n",
                "\n",
                "-- Şimdi veritabanını silebilirsiniz\n",
                "DROP DATABASE spotify;\n",
                "GO"
            ],
            "metadata": {
                "language": "sql",
                "azdata_cell_guid": "cc36c102-ddef-457c-b17a-0763eb2b5a08"
            },
            "outputs": [
                {
                    "output_type": "display_data",
                    "data": {
                        "text/html": "Commands completed successfully."
                    },
                    "metadata": {}
                },
                {
                    "output_type": "display_data",
                    "data": {
                        "text/html": "Nonqualified transactions are being rolled back. Estimated rollback completion: 0%."
                    },
                    "metadata": {}
                },
                {
                    "output_type": "display_data",
                    "data": {
                        "text/html": "Nonqualified transactions are being rolled back. Estimated rollback completion: 100%."
                    },
                    "metadata": {}
                },
                {
                    "output_type": "display_data",
                    "data": {
                        "text/html": "Commands completed successfully."
                    },
                    "metadata": {}
                },
                {
                    "output_type": "display_data",
                    "data": {
                        "text/html": "Total execution time: 00:00:03.222"
                    },
                    "metadata": {}
                }
            ],
            "execution_count": 28
        },
        {
            "cell_type": "code",
            "source": [
                "RESTORE DATABASE spotify\n",
                "FROM DISK = '/var/opt/mssql/backup/spotify_full.bak'\n",
                "WITH REPLACE, NORECOVERY;"
            ],
            "metadata": {
                "azdata_cell_guid": "6ce63a5b-0fe8-4d02-a784-3db1f02ebf24",
                "language": "sql"
            },
            "outputs": [
                {
                    "output_type": "display_data",
                    "data": {
                        "text/html": "Processed 416 pages for database 'spotify', file 'spotify' on file 1."
                    },
                    "metadata": {}
                },
                {
                    "output_type": "display_data",
                    "data": {
                        "text/html": "Processed 2 pages for database 'spotify', file 'spotify_log' on file 1."
                    },
                    "metadata": {}
                },
                {
                    "output_type": "display_data",
                    "data": {
                        "text/html": "RESTORE DATABASE successfully processed 418 pages in 0.022 seconds (148.259 MB/sec)."
                    },
                    "metadata": {}
                },
                {
                    "output_type": "display_data",
                    "data": {
                        "text/html": "Total execution time: 00:00:00.484"
                    },
                    "metadata": {}
                }
            ],
            "execution_count": 33
        },
        {
            "cell_type": "code",
            "source": [
                "RESTORE DATABASE spotify\n",
                "FROM DISK = '/var/opt/mssql/backup/spotify_diff.bak'\n",
                "WITH NORECOVERY;"
            ],
            "metadata": {
                "azdata_cell_guid": "9fb3d0da-91a0-46e7-85ea-fbfa52358b48",
                "language": "sql",
                "tags": []
            },
            "outputs": [
                {
                    "output_type": "display_data",
                    "data": {
                        "text/html": "Processed 160 pages for database 'spotify', file 'spotify' on file 1."
                    },
                    "metadata": {}
                },
                {
                    "output_type": "display_data",
                    "data": {
                        "text/html": "Processed 2 pages for database 'spotify', file 'spotify_log' on file 1."
                    },
                    "metadata": {}
                },
                {
                    "output_type": "display_data",
                    "data": {
                        "text/html": "RESTORE DATABASE successfully processed 162 pages in 0.016 seconds (78.857 MB/sec)."
                    },
                    "metadata": {}
                },
                {
                    "output_type": "display_data",
                    "data": {
                        "text/html": "Total execution time: 00:00:00.456"
                    },
                    "metadata": {}
                }
            ],
            "execution_count": 34
        },
        {
            "cell_type": "code",
            "source": [
                "RESTORE LOG spotify\n",
                "FROM DISK = '/var/opt/mssql/backup/spotify_log.trn'\n",
                "WITH NORECOVERY;"
            ],
            "metadata": {
                "language": "sql",
                "azdata_cell_guid": "23af66d5-d765-49ad-b0a0-4462080b5909",
                "tags": []
            },
            "outputs": [
                {
                    "output_type": "display_data",
                    "data": {
                        "text/html": "Processed 0 pages for database 'spotify', file 'spotify' on file 1."
                    },
                    "metadata": {}
                },
                {
                    "output_type": "display_data",
                    "data": {
                        "text/html": "Processed 2 pages for database 'spotify', file 'spotify_log' on file 1."
                    },
                    "metadata": {}
                },
                {
                    "output_type": "display_data",
                    "data": {
                        "text/html": "RESTORE LOG successfully processed 2 pages in 0.024 seconds (0.488 MB/sec)."
                    },
                    "metadata": {}
                },
                {
                    "output_type": "display_data",
                    "data": {
                        "text/html": "Total execution time: 00:00:00.279"
                    },
                    "metadata": {}
                }
            ],
            "execution_count": 35
        },
        {
            "cell_type": "code",
            "source": [
                "RESTORE DATABASE spotify\n",
                "WITH RECOVERY;"
            ],
            "metadata": {
                "azdata_cell_guid": "dc349d2c-6823-45ce-960d-be5722485dee",
                "language": "sql",
                "tags": [
                    "hide_input"
                ]
            },
            "outputs": [
                {
                    "output_type": "display_data",
                    "data": {
                        "text/html": "RESTORE DATABASE successfully processed 0 pages in 0.366 seconds (0.000 MB/sec)."
                    },
                    "metadata": {}
                },
                {
                    "output_type": "display_data",
                    "data": {
                        "text/html": "Total execution time: 00:00:00.386"
                    },
                    "metadata": {}
                }
            ],
            "execution_count": 36
        },
        {
            "cell_type": "code",
            "source": [
                "EXEC msdb.dbo.sp_help_job;"
            ],
            "metadata": {
                "azdata_cell_guid": "ab487eca-5a26-46ca-8b90-5c4c895ad2f6",
                "language": "sql"
            },
            "outputs": [
                {
                    "output_type": "display_data",
                    "data": {
                        "text/html": "Commands completed successfully."
                    },
                    "metadata": {}
                },
                {
                    "output_type": "display_data",
                    "data": {
                        "text/html": "Total execution time: 00:00:00.217"
                    },
                    "metadata": {}
                },
                {
                    "output_type": "execute_result",
                    "metadata": {},
                    "execution_count": 37,
                    "data": {
                        "application/vnd.dataresource+json": {
                            "schema": {
                                "fields": [
                                    {
                                        "name": "job_id"
                                    },
                                    {
                                        "name": "originating_server"
                                    },
                                    {
                                        "name": "name"
                                    },
                                    {
                                        "name": "enabled"
                                    },
                                    {
                                        "name": "description"
                                    },
                                    {
                                        "name": "start_step_id"
                                    },
                                    {
                                        "name": "category"
                                    },
                                    {
                                        "name": "owner"
                                    },
                                    {
                                        "name": "notify_level_eventlog"
                                    },
                                    {
                                        "name": "notify_level_email"
                                    },
                                    {
                                        "name": "notify_level_netsend"
                                    },
                                    {
                                        "name": "notify_level_page"
                                    },
                                    {
                                        "name": "notify_email_operator"
                                    },
                                    {
                                        "name": "notify_netsend_operator"
                                    },
                                    {
                                        "name": "notify_page_operator"
                                    },
                                    {
                                        "name": "delete_level"
                                    },
                                    {
                                        "name": "date_created"
                                    },
                                    {
                                        "name": "date_modified"
                                    },
                                    {
                                        "name": "version_number"
                                    },
                                    {
                                        "name": "last_run_date"
                                    },
                                    {
                                        "name": "last_run_time"
                                    },
                                    {
                                        "name": "last_run_outcome"
                                    },
                                    {
                                        "name": "next_run_date"
                                    },
                                    {
                                        "name": "next_run_time"
                                    },
                                    {
                                        "name": "next_run_schedule_id"
                                    },
                                    {
                                        "name": "current_execution_status"
                                    },
                                    {
                                        "name": "current_execution_step"
                                    },
                                    {
                                        "name": "current_retry_attempt"
                                    },
                                    {
                                        "name": "has_step"
                                    },
                                    {
                                        "name": "has_schedule"
                                    },
                                    {
                                        "name": "has_target"
                                    },
                                    {
                                        "name": "type"
                                    }
                                ]
                            },
                            "data": [
                                {
                                    "job_id": "0933f684-b0f2-4976-9a27-e6a3bfb5ebcb",
                                    "originating_server": "D2AC8703F7AC",
                                    "name": "SpotifyDB_Backup_Job",
                                    "enabled": "1",
                                    "description": "No description available.",
                                    "start_step_id": "1",
                                    "category": "[Uncategorized (Local)]",
                                    "owner": "sa",
                                    "notify_level_eventlog": "2",
                                    "notify_level_email": "0",
                                    "notify_level_netsend": "0",
                                    "notify_level_page": "0",
                                    "notify_email_operator": "(unknown)",
                                    "notify_netsend_operator": "(unknown)",
                                    "notify_page_operator": "(unknown)",
                                    "delete_level": "0",
                                    "date_created": "2025-04-23 11:52:23.697",
                                    "date_modified": "2025-04-23 11:52:23.863",
                                    "version_number": "2",
                                    "last_run_date": "20250423",
                                    "last_run_time": "120143",
                                    "last_run_outcome": "1",
                                    "next_run_date": "20250423",
                                    "next_run_time": "150000",
                                    "next_run_schedule_id": "9",
                                    "current_execution_status": "4",
                                    "current_execution_step": "0 (unknown)",
                                    "current_retry_attempt": "0",
                                    "has_step": "1",
                                    "has_schedule": "2",
                                    "has_target": "1",
                                    "type": "1"
                                }
                            ]
                        },
                        "text/html": [
                            "<table>",
                            "<tr><th>job_id</th><th>originating_server</th><th>name</th><th>enabled</th><th>description</th><th>start_step_id</th><th>category</th><th>owner</th><th>notify_level_eventlog</th><th>notify_level_email</th><th>notify_level_netsend</th><th>notify_level_page</th><th>notify_email_operator</th><th>notify_netsend_operator</th><th>notify_page_operator</th><th>delete_level</th><th>date_created</th><th>date_modified</th><th>version_number</th><th>last_run_date</th><th>last_run_time</th><th>last_run_outcome</th><th>next_run_date</th><th>next_run_time</th><th>next_run_schedule_id</th><th>current_execution_status</th><th>current_execution_step</th><th>current_retry_attempt</th><th>has_step</th><th>has_schedule</th><th>has_target</th><th>type</th></tr>",
                            "<tr><td>0933f684-b0f2-4976-9a27-e6a3bfb5ebcb</td><td>D2AC8703F7AC</td><td>SpotifyDB_Backup_Job</td><td>1</td><td>No description available.</td><td>1</td><td>[Uncategorized (Local)]</td><td>sa</td><td>2</td><td>0</td><td>0</td><td>0</td><td>(unknown)</td><td>(unknown)</td><td>(unknown)</td><td>0</td><td>2025-04-23 11:52:23.697</td><td>2025-04-23 11:52:23.863</td><td>2</td><td>20250423</td><td>120143</td><td>1</td><td>20250423</td><td>150000</td><td>9</td><td>4</td><td>0 (unknown)</td><td>0</td><td>1</td><td>2</td><td>1</td><td>1</td></tr>",
                            "</table>"
                        ]
                    }
                }
            ],
            "execution_count": 37
        },
        {
            "cell_type": "code",
            "source": [
                "EXEC msdb.dbo.sp_update_job\n",
                "    @job_name = N'SpotifyDB_Backup_Job',\n",
                "    @enabled = 1;"
            ],
            "metadata": {
                "language": "sql",
                "azdata_cell_guid": "2308421d-8213-4975-a22b-cdcab43ac0a9"
            },
            "outputs": [
                {
                    "output_type": "display_data",
                    "data": {
                        "text/html": "Commands completed successfully."
                    },
                    "metadata": {}
                },
                {
                    "output_type": "display_data",
                    "data": {
                        "text/html": "Total execution time: 00:00:00.159"
                    },
                    "metadata": {}
                }
            ],
            "execution_count": 38
        },
        {
            "cell_type": "markdown",
            "source": [
                "**Point-in-time Restore**"
            ],
            "metadata": {
                "language": "sql",
                "azdata_cell_guid": "2afeda66-7f30-4a29-ae2a-0dea85178718"
            },
            "attachments": {}
        },
        {
            "cell_type": "code",
            "source": [
                "RESTORE DATABASE spotify\n",
                "FROM DISK = '/var/opt/mssql/backup/spotify_full.bak'\n",
                "WITH STOPAT = '2025-04-23 12:00:00', RECOVERY;"
            ],
            "metadata": {
                "language": "sql",
                "azdata_cell_guid": "e0f76d22-1dc9-4f00-9ffa-47df175f4ae7"
            },
            "outputs": [
                {
                    "output_type": "display_data",
                    "data": {
                        "text/html": "Total execution time: 00:00:00"
                    },
                    "metadata": {}
                }
            ],
            "execution_count": 40
        }
    ]
}