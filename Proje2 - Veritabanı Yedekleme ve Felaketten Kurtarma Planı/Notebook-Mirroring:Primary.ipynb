{
    "metadata": {
        "kernelspec": {
            "name": "SQL",
            "display_name": "SQL",
            "language": "sql"
        },
        "language_info": {
            "name": "sql",
            "version": ""
        }
    },
    "nbformat_minor": 2,
    "nbformat": 4,
    "cells": [
        {
            "cell_type": "code",
            "source": [
                "CREATE DATABASE spotify_mirroring;"
            ],
            "metadata": {
                "azdata_cell_guid": "792c63cc-29f4-40f2-b5ab-59e2381bdef0",
                "language": "sql"
            },
            "outputs": [
                {
                    "output_type": "display_data",
                    "data": {
                        "text/html": "Commands completed successfully."
                    },
                    "metadata": {}
                },
                {
                    "output_type": "display_data",
                    "data": {
                        "text/html": "Total execution time: 00:00:00.217"
                    },
                    "metadata": {}
                }
            ],
            "execution_count": 1
        },
        {
            "cell_type": "markdown",
            "source": [
                "## **4- Test Yedekleme Senaryoları (Database Mirroring)**"
            ],
            "metadata": {
                "azdata_cell_guid": "7c31bd29-38cf-468e-96a7-cfb4f80164f6",
                "language": ""
            },
            "attachments": {}
        },
        {
            "cell_type": "code",
            "source": [
                "ALTER DATABASE spotify_mirroring SET RECOVERY FULL;\n",
                "GO"
            ],
            "metadata": {
                "azdata_cell_guid": "81b5760b-a104-449f-8823-a92224170f34",
                "language": "sql"
            },
            "outputs": [
                {
                    "output_type": "display_data",
                    "data": {
                        "text/html": "Commands completed successfully."
                    },
                    "metadata": {}
                },
                {
                    "output_type": "display_data",
                    "data": {
                        "text/html": "Total execution time: 00:00:00.020"
                    },
                    "metadata": {}
                }
            ],
            "execution_count": 2
        },
        {
            "cell_type": "code",
            "source": [
                "BACKUP DATABASE spotify_mirroring\n",
                "TO DISK = '/var/opt/mssql/backup/MirrorTestDB.bak'\n",
                "WITH FORMAT;\n",
                "GO"
            ],
            "metadata": {
                "azdata_cell_guid": "67a4de46-e474-49bb-8526-6bc38fba5dc5",
                "language": "sql"
            },
            "outputs": [
                {
                    "output_type": "display_data",
                    "data": {
                        "text/html": "Processed 408 pages for database 'spotify_mirroring', file 'spotify_mirroring' on file 1."
                    },
                    "metadata": {}
                },
                {
                    "output_type": "display_data",
                    "data": {
                        "text/html": "Processed 2 pages for database 'spotify_mirroring', file 'spotify_mirroring_log' on file 1."
                    },
                    "metadata": {}
                },
                {
                    "output_type": "display_data",
                    "data": {
                        "text/html": "BACKUP DATABASE successfully processed 410 pages in 0.042 seconds (76.171 MB/sec)."
                    },
                    "metadata": {}
                },
                {
                    "output_type": "display_data",
                    "data": {
                        "text/html": "Total execution time: 00:00:00.242"
                    },
                    "metadata": {}
                }
            ],
            "execution_count": 3
        },
        {
            "cell_type": "markdown",
            "source": [
                "Bu adımdan sonra Mirror sunucuda işlemlerimizi gerçekleştirdik. \n",
                "\n",
                "<span style=\"color: #0000ff;\">RESTORE</span> <span style=\"color: #0000ff;\">DATABASE</span> spotify\\_mirroring\n",
                "\n",
                "<span style=\"color: #0000ff;\">FROM</span> <span style=\"color: #0000ff;\">DISK</span> <span style=\"color: #000000;\">=</span> <span style=\"color: #a31515;\">'/var/opt/mssql/backup/MirrorTestDB.bak'</span>\n",
                "\n",
                "<span style=\"color: #0000ff;\">WITH</span> <span style=\"color: #0000ff;\">NORECOVERY</span>;\n",
                "\n",
                "<span style=\"color: #0000ff;\">GO</span>\n",
                "\n",
                "kodunu çalıştırdık ve sonucunda işlem başarılı mesajını aldık."
            ],
            "metadata": {
                "language": "sql",
                "azdata_cell_guid": "f95779b0-8622-4944-bef0-29d1c3499e3e"
            },
            "attachments": {}
        },
        {
            "cell_type": "code",
            "source": [
                "CREATE ENDPOINT [Mirroring] \n",
                "STATE = STARTED\n",
                "AS TCP (LISTENER_PORT = 5022)\n",
                "FOR DATABASE_MIRRORING (ROLE=PARTNER);\n",
                "GO\n",
                ""
            ],
            "metadata": {
                "azdata_cell_guid": "9f72aa64-7179-4344-93ae-f99881f5cda4",
                "language": "sql"
            },
            "outputs": [
                {
                    "output_type": "display_data",
                    "data": {
                        "text/html": "Commands completed successfully."
                    },
                    "metadata": {}
                },
                {
                    "output_type": "display_data",
                    "data": {
                        "text/html": "Total execution time: 00:00:02.080"
                    },
                    "metadata": {}
                }
            ],
            "execution_count": 4
        },
        {
            "cell_type": "markdown",
            "source": [
                "Şimdi aynı adımı Mirror sunucuda çalıştırıyoruz. \n",
                "\n",
                "CREATE ENDPOINT \\[Mirroring\\] \n",
                "\n",
                "STATE = STARTED\n",
                "\n",
                "AS TCP (LISTENER\\_PORT = 5022)\n",
                "\n",
                "FOR DATABASE\\_MIRRORING (ROLE=PARTNER);\n",
                "\n",
                "GO"
            ],
            "metadata": {
                "azdata_cell_guid": "0daa96e9-0bb1-4d4c-a966-6345af2ea7b1"
            },
            "attachments": {}
        },
        {
            "cell_type": "code",
            "source": [
                "ALTER DATABASE spotify_mirroring \n",
                "SET PARTNER = 'TCP://sql_mirror:5022';\n",
                "GO"
            ],
            "metadata": {
                "azdata_cell_guid": "fcb18fe8-519f-4905-a433-6781743341fe",
                "language": "sql",
                "tags": []
            },
            "outputs": [],
            "execution_count": null
        },
        {
            "cell_type": "markdown",
            "source": [
                "Şimdi aynı adımı Mirror sunucuda çalıştırıyoruz. <span style=\"color: #0000ff;\"><br></span>\n",
                "\n",
                "<span style=\"color: #0000ff;\">ALTER</span> <span style=\"color: #0000ff;\">DATABASE</span> spotify\\_mirroring\n",
                "\n",
                "<span style=\"color: #0000ff;\">SET</span> <span style=\"color: #0000ff;\">PARTNER</span> <span style=\"color: #000000;\">=</span> <span style=\"color: #a31515;\">'TCP://sql_primary:5022'</span>;\n",
                "\n",
                "<span style=\"color: #0000ff;\">GO</span>"
            ],
            "metadata": {
                "azdata_cell_guid": "95c80b8a-104c-4e95-a064-0d07fe6a9ba8"
            },
            "attachments": {}
        },
        {
            "cell_type": "markdown",
            "source": [
                "**Başarılı bir şekilde Mirroring işlemimizi gerçekleştirdik.**"
            ],
            "metadata": {
                "azdata_cell_guid": "f8539896-dcfb-4661-bac9-a6644b62b6a2"
            },
            "attachments": {}
        }
    ]
}