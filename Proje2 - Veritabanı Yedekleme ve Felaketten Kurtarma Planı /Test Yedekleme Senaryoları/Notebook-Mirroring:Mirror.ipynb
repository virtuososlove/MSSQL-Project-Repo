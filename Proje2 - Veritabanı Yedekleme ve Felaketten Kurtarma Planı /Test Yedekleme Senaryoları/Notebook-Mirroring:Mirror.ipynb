{
    "metadata": {
        "kernelspec": {
            "name": "SQL",
            "display_name": "SQL",
            "language": "sql"
        },
        "language_info": {
            "name": "sql",
            "version": ""
        }
    },
    "nbformat_minor": 2,
    "nbformat": 4,
    "cells": [
        {
            "cell_type": "code",
            "source": [
                "RESTORE DATABASE spotify_mirroring\n",
                "FROM DISK = '/var/opt/mssql/backup/MirrorTestDB.bak'\n",
                "WITH NORECOVERY;\n",
                "GO\n",
                ""
            ],
            "metadata": {
                "azdata_cell_guid": "f1f1565c-1cfd-4a4e-8f65-67164bd3b9d2",
                "language": "sql"
            },
            "outputs": [
                {
                    "output_type": "display_data",
                    "data": {
                        "text/html": "Processed 408 pages for database 'spotify_mirroring', file 'spotify_mirroring' on file 1."
                    },
                    "metadata": {}
                },
                {
                    "output_type": "display_data",
                    "data": {
                        "text/html": "Processed 2 pages for database 'spotify_mirroring', file 'spotify_mirroring_log' on file 1."
                    },
                    "metadata": {}
                },
                {
                    "output_type": "display_data",
                    "data": {
                        "text/html": "RESTORE DATABASE successfully processed 410 pages in 0.018 seconds (177.734 MB/sec)."
                    },
                    "metadata": {}
                },
                {
                    "output_type": "display_data",
                    "data": {
                        "text/html": "Total execution time: 00:00:00.397"
                    },
                    "metadata": {}
                }
            ],
            "execution_count": 2
        },
        {
            "cell_type": "code",
            "source": [
                "CREATE ENDPOINT [Mirroring] \n",
                "STATE = STARTED\n",
                "AS TCP (LISTENER_PORT = 5022)\n",
                "FOR DATABASE_MIRRORING (ROLE=PARTNER);\n",
                "GO"
            ],
            "metadata": {
                "azdata_cell_guid": "b3165b07-ee24-4eca-b298-14fe1bcbbdb0",
                "language": "sql"
            },
            "outputs": [
                {
                    "output_type": "display_data",
                    "data": {
                        "text/html": "Commands completed successfully."
                    },
                    "metadata": {}
                },
                {
                    "output_type": "display_data",
                    "data": {
                        "text/html": "Total execution time: 00:00:02.072"
                    },
                    "metadata": {}
                }
            ],
            "execution_count": 3
        },
        {
            "cell_type": "code",
            "source": [
                "ALTER DATABASE spotify_mirroring \n",
                "SET PARTNER = 'TCP://sql_primary:5022';\n",
                "GO"
            ],
            "metadata": {
                "azdata_cell_guid": "7e340ecf-a260-4127-b8b0-40a70b25bf70",
                "language": "sql"
            },
            "outputs": [],
            "execution_count": null
        }
    ]
}